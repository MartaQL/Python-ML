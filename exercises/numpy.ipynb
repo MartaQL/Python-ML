{
 "cells": [
  {
   "cell_type": "code",
   "execution_count": 1,
   "metadata": {},
   "outputs": [],
   "source": [
    "import numpy as np"
   ]
  },
  {
   "cell_type": "code",
   "execution_count": 2,
   "metadata": {},
   "outputs": [
    {
     "data": {
      "text/plain": [
       "(array([1, 2, 3, 4, 5]), list, numpy.ndarray)"
      ]
     },
     "execution_count": 2,
     "metadata": {},
     "output_type": "execute_result"
    }
   ],
   "source": [
    "my_list = [1, 2, 3, 4, 5]\n",
    "my_array = np.array(my_list)\n",
    "my_array, type(my_list), type(my_array)"
   ]
  },
  {
   "cell_type": "code",
   "execution_count": 3,
   "metadata": {},
   "outputs": [
    {
     "data": {
      "text/plain": [
       "dtype('int64')"
      ]
     },
     "execution_count": 3,
     "metadata": {},
     "output_type": "execute_result"
    }
   ],
   "source": [
    "my_array.dtype"
   ]
  },
  {
   "cell_type": "code",
   "execution_count": 4,
   "metadata": {},
   "outputs": [
    {
     "data": {
      "text/plain": [
       "(5,)"
      ]
     },
     "execution_count": 4,
     "metadata": {},
     "output_type": "execute_result"
    }
   ],
   "source": [
    "my_array.shape"
   ]
  },
  {
   "cell_type": "code",
   "execution_count": 5,
   "metadata": {},
   "outputs": [
    {
     "name": "stdout",
     "output_type": "stream",
     "text": [
      "Array of zeros:\n",
      " [[0. 0. 0.]\n",
      " [0. 0. 0.]]\n",
      "Array of ones:\n",
      " [[1. 1. 1.]\n",
      " [1. 1. 1.]\n",
      " [1. 1. 1.]]\n",
      "Array of sevens:\n",
      " [[7 7]\n",
      " [7 7]]\n",
      "Array of range:\n",
      " [0 2 4 6 8]\n",
      "Array of linspace:\n",
      " [0.   0.25 0.5  0.75 1.  ]\n"
     ]
    }
   ],
   "source": [
    "import numpy as np\n",
    "\n",
    "zeros_array = np.zeros((2, 3))    # 2x3 array of zeros\n",
    "ones_array = np.ones((3, 3))      # 3x3 array of ones\n",
    "full_array = np.full((2, 2), 7)    # 2x2 array filled with 7\n",
    "range_array = np.arange(0, 10, 2)  # array with values from 0 to 8 with a step of 2\n",
    "linspace_array = np.linspace(0, 1, 5)  # array with 5 evenly spaced values between 0 and 1\n",
    "\n",
    "print(\"Array of zeros:\\n\", zeros_array)\n",
    "print(\"Array of ones:\\n\", ones_array)\n",
    "print(\"Array of sevens:\\n\", full_array)\n",
    "print(\"Array of range:\\n\", range_array)\n",
    "print(\"Array of linspace:\\n\", linspace_array)"
   ]
  },
  {
   "cell_type": "code",
   "execution_count": 6,
   "metadata": {},
   "outputs": [
    {
     "data": {
      "text/plain": [
       "array([[0., 0., 0.],\n",
       "       [0., 0., 0.],\n",
       "       [0., 0., 0.]])"
      ]
     },
     "execution_count": 6,
     "metadata": {},
     "output_type": "execute_result"
    }
   ],
   "source": [
    "ones_array *0"
   ]
  },
  {
   "cell_type": "code",
   "execution_count": 7,
   "metadata": {},
   "outputs": [
    {
     "name": "stdout",
     "output_type": "stream",
     "text": [
      "Original array:\n",
      " [1 2 3 4 5]\n",
      "Shape of array:  (5,) \n",
      "\n",
      "Sum:  15\n",
      "Min:  1\n",
      "Max:  5\n",
      "Mean:  3.0\n"
     ]
    }
   ],
   "source": [
    "import numpy as np\n",
    "\n",
    "# 1-D array\n",
    "arr = np.array([1, 2, 3, 4, 5])\n",
    "print(\"Original array:\\n\", arr)\n",
    "print(\"Shape of array: \", arr.shape, \"\\n\")\n",
    "\n",
    "# Operations along the axis\n",
    "print(\"Sum: \", np.sum(arr, axis=0))\n",
    "print(\"Min: \", np.min(arr, axis=0))\n",
    "print(\"Max: \", np.max(arr, axis=0))\n",
    "print(\"Mean: \", np.mean(arr, axis=0))"
   ]
  },
  {
   "cell_type": "code",
   "execution_count": 12,
   "metadata": {},
   "outputs": [
    {
     "data": {
      "text/plain": [
       "(15, 5, 1, 3.0, 1.4142135623730951)"
      ]
     },
     "execution_count": 12,
     "metadata": {},
     "output_type": "execute_result"
    }
   ],
   "source": [
    "arr.sum(), arr.max(), arr.min(), arr.mean(), arr.std()"
   ]
  },
  {
   "cell_type": "code",
   "execution_count": 13,
   "metadata": {},
   "outputs": [
    {
     "name": "stdout",
     "output_type": "stream",
     "text": [
      "Original array:\n",
      " [[1 2 3]\n",
      " [4 5 6]\n",
      " [7 8 9]]\n",
      "Shape of array:  (3, 3) \n",
      "\n",
      "Sum along axis 0:\n",
      " [12 15 18]\n",
      "Min along axis 0:\n",
      " [1 2 3]\n",
      "Max along axis 0:\n",
      " [7 8 9]\n",
      "Mean along axis 0:\n",
      " [4. 5. 6.]\n",
      "Sum along axis 1:\n",
      " [ 6 15 24]\n",
      "Min along axis 1:\n",
      " [1 4 7]\n",
      "Max along axis 1:\n",
      " [3 6 9]\n",
      "Mean along axis 1:\n",
      " [2. 5. 8.]\n"
     ]
    }
   ],
   "source": [
    "# 2-D array\n",
    "arr = np.array([[1, 2, 3], [4, 5, 6], [7, 8, 9]])\n",
    "print(\"Original array:\\n\", arr)\n",
    "print(\"Shape of array: \", arr.shape, \"\\n\")\n",
    "\n",
    "# Operations along axis 0\n",
    "print(\"Sum along axis 0:\\n\", np.sum(arr, axis=0))\n",
    "print(\"Min along axis 0:\\n\", np.min(arr, axis=0))\n",
    "print(\"Max along axis 0:\\n\", np.max(arr, axis=0))\n",
    "print(\"Mean along axis 0:\\n\", np.mean(arr, axis=0))\n",
    "\n",
    "# Operations along axis 1\n",
    "print(\"Sum along axis 1:\\n\", np.sum(arr, axis=1))\n",
    "print(\"Min along axis 1:\\n\", np.min(arr, axis=1))\n",
    "print(\"Max along axis 1:\\n\", np.max(arr, axis=1))\n",
    "print(\"Mean along axis 1:\\n\", np.mean(arr, axis=1))"
   ]
  },
  {
   "cell_type": "code",
   "execution_count": 14,
   "metadata": {},
   "outputs": [
    {
     "name": "stdout",
     "output_type": "stream",
     "text": [
      "Original array:\n",
      " [[[ 1  2  3]\n",
      "  [ 4  5  6]]\n",
      "\n",
      " [[ 7  8  9]\n",
      "  [10 11 12]]]\n",
      "Shape of array:  (2, 2, 3) \n",
      "\n",
      "Sum along axis 0:\n",
      " [[ 8 10 12]\n",
      " [14 16 18]]\n",
      "Min along axis 0:\n",
      " [[1 2 3]\n",
      " [4 5 6]]\n",
      "Max along axis 0:\n",
      " [[ 7  8  9]\n",
      " [10 11 12]]\n",
      "Mean along axis 0:\n",
      " [[4. 5. 6.]\n",
      " [7. 8. 9.]]\n",
      "Sum along axis 1:\n",
      " [[ 5  7  9]\n",
      " [17 19 21]]\n",
      "Min along axis 1:\n",
      " [[1 2 3]\n",
      " [7 8 9]]\n",
      "Max along axis 1:\n",
      " [[ 4  5  6]\n",
      " [10 11 12]]\n",
      "Mean along axis 1:\n",
      " [[ 2.5  3.5  4.5]\n",
      " [ 8.5  9.5 10.5]]\n",
      "Sum along axis 2:\n",
      " [[ 6 15]\n",
      " [24 33]]\n",
      "Min along axis 2:\n",
      " [[ 1  4]\n",
      " [ 7 10]]\n",
      "Max along axis 2:\n",
      " [[ 3  6]\n",
      " [ 9 12]]\n",
      "Mean along axis 2:\n",
      " [[ 2.  5.]\n",
      " [ 8. 11.]]\n"
     ]
    }
   ],
   "source": [
    "# 3-D array\n",
    "arr = np.array([[[1, 2, 3], [4, 5, 6]], [[7, 8, 9], [10, 11, 12]]])\n",
    "print(\"Original array:\\n\", arr)\n",
    "print(\"Shape of array: \", arr.shape, \"\\n\")\n",
    "\n",
    "# Operations along axis 0\n",
    "print(\"Sum along axis 0:\\n\", np.sum(arr, axis=0))\n",
    "print(\"Min along axis 0:\\n\", np.min(arr, axis=0))\n",
    "print(\"Max along axis 0:\\n\", np.max(arr, axis=0))\n",
    "print(\"Mean along axis 0:\\n\", np.mean(arr, axis=0))\n",
    "\n",
    "# Operations along axis 1\n",
    "print(\"Sum along axis 1:\\n\", np.sum(arr, axis=1))\n",
    "print(\"Min along axis 1:\\n\", np.min(arr, axis=1))\n",
    "print(\"Max along axis 1:\\n\", np.max(arr, axis=1))\n",
    "print(\"Mean along axis 1:\\n\", np.mean(arr, axis=1))\n",
    "\n",
    "# Operations along axis 2\n",
    "print(\"Sum along axis 2:\\n\", np.sum(arr, axis=2))\n",
    "print(\"Min along axis 2:\\n\", np.min(arr, axis=2))\n",
    "print(\"Max along axis 2:\\n\", np.max(arr, axis=2))\n",
    "print(\"Mean along axis 2:\\n\", np.mean(arr, axis=2))"
   ]
  },
  {
   "cell_type": "code",
   "execution_count": 15,
   "metadata": {},
   "outputs": [
    {
     "data": {
      "text/plain": [
       "array([1, 2, 3, 4, 5])"
      ]
     },
     "execution_count": 15,
     "metadata": {},
     "output_type": "execute_result"
    }
   ],
   "source": [
    "my_array"
   ]
  },
  {
   "cell_type": "code",
   "execution_count": 17,
   "metadata": {},
   "outputs": [
    {
     "data": {
      "text/plain": [
       "array([ 0,  1,  2,  3,  4,  5,  6,  7,  8,  9, 10])"
      ]
     },
     "execution_count": 17,
     "metadata": {},
     "output_type": "execute_result"
    }
   ],
   "source": [
    "arr = np.array([0,1,2,3,4,5,6,7,8,9,10])\n",
    "arr"
   ]
  },
  {
   "cell_type": "code",
   "execution_count": 18,
   "metadata": {},
   "outputs": [
    {
     "name": "stdout",
     "output_type": "stream",
     "text": [
      "Mask: [False False False False False False  True  True  True  True  True]\n"
     ]
    }
   ],
   "source": [
    "\n",
    "# Create a mask\n",
    "mask = arr > 5\n",
    "print(\"Mask:\", mask)"
   ]
  },
  {
   "cell_type": "code",
   "execution_count": 20,
   "metadata": {},
   "outputs": [
    {
     "data": {
      "text/plain": [
       "array([ 6,  7,  8,  9, 10])"
      ]
     },
     "execution_count": 20,
     "metadata": {},
     "output_type": "execute_result"
    }
   ],
   "source": [
    "arr[mask]"
   ]
  },
  {
   "cell_type": "code",
   "execution_count": 22,
   "metadata": {},
   "outputs": [],
   "source": [
    "arr[mask] = 10"
   ]
  },
  {
   "cell_type": "code",
   "execution_count": 23,
   "metadata": {},
   "outputs": [
    {
     "data": {
      "text/plain": [
       "array([ 0,  1,  2,  3,  4,  5, 10, 10, 10, 10, 10])"
      ]
     },
     "execution_count": 23,
     "metadata": {},
     "output_type": "execute_result"
    }
   ],
   "source": [
    "arr"
   ]
  },
  {
   "cell_type": "code",
   "execution_count": 27,
   "metadata": {},
   "outputs": [
    {
     "data": {
      "text/plain": [
       "(array([ 6,  7,  8,  9, 10]),)"
      ]
     },
     "execution_count": 27,
     "metadata": {},
     "output_type": "execute_result"
    }
   ],
   "source": [
    "arr= np.array([0,1,2,3,4,5,10,12,8,9,10])\n",
    "\n",
    "np.where(arr>5)"
   ]
  }
 ],
 "metadata": {
  "kernelspec": {
   "display_name": "Python 3",
   "language": "python",
   "name": "python3"
  },
  "language_info": {
   "codemirror_mode": {
    "name": "ipython",
    "version": 3
   },
   "file_extension": ".py",
   "mimetype": "text/x-python",
   "name": "python",
   "nbconvert_exporter": "python",
   "pygments_lexer": "ipython3",
   "version": "3.9.19"
  }
 },
 "nbformat": 4,
 "nbformat_minor": 2
}
